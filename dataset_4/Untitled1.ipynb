{
 "cells": [
  {
   "cell_type": "code",
   "execution_count": 1,
   "metadata": {},
   "outputs": [
    {
     "name": "stderr",
     "output_type": "stream",
     "text": [
      "/home/sid/anaconda2/lib/python2.7/site-packages/sklearn/cross_validation.py:41: DeprecationWarning: This module was deprecated in version 0.18 in favor of the model_selection module into which all the refactored classes and functions are moved. Also note that the interface of the new CV iterators are different from that of this module. This module will be removed in 0.20.\n",
      "  \"This module will be removed in 0.20.\", DeprecationWarning)\n"
     ]
    }
   ],
   "source": [
    "# %load /home/sid/libs.txt\n",
    "import numpy as np\n",
    "import pandas as pd\n",
    "import matplotlib.pyplot as plt\n",
    "import seaborn as sns\n",
    "from imblearn.over_sampling import SMOTE\n",
    "from sklearn.linear_model import LogisticRegression\n",
    "from sklearn.model_selection import train_test_split\n",
    "from sklearn.metrics import f1_score, confusion_matrix\n",
    "from sklearn.metrics import precision_score, recall_score\n",
    "from sklearn.metrics import roc_auc_score\n",
    "from sklearn.metrics import roc_curve, make_scorer\n",
    "from scipy.io.arff import loadarff\n",
    "from sklearn.ensemble import RandomForestClassifier\n",
    "from xgboost import XGBClassifier\n",
    "from sklearn.metrics import accuracy_score\n",
    "from xgboost import plot_importance\n",
    "\n",
    "from sklearn.model_selection import GridSearchCV\n",
    "from sklearn.ensemble import RandomForestRegressor\n",
    "%matplotlib inline"
   ]
  },
  {
   "cell_type": "code",
   "execution_count": 2,
   "metadata": {
    "collapsed": true
   },
   "outputs": [],
   "source": [
    "def test_data_prep(*files):\n",
    "    test_data = [pd.DataFrame(loadarff(file)[0]) for file in files]\n",
    "    for i in range(len(test_data)):\n",
    "        test_data[i]['class'].replace([b'0', b'1'], [0, 1], inplace = True)\n",
    "    return test_data"
   ]
  },
  {
   "cell_type": "code",
   "execution_count": 3,
   "metadata": {},
   "outputs": [],
   "source": [
    "\n",
    "test_df = test_data_prep('data/1year.arff', 'data/2year.arff', 'data/3year.arff', 'data/4year.arff', 'data/5year.arff')\n",
    "# test_df"
   ]
  },
  {
   "cell_type": "code",
   "execution_count": 4,
   "metadata": {},
   "outputs": [
    {
     "name": "stderr",
     "output_type": "stream",
     "text": [
      "/home/sid/anaconda2/lib/python2.7/site-packages/pandas/core/generic.py:3660: SettingWithCopyWarning: \n",
      "A value is trying to be set on a copy of a slice from a DataFrame\n",
      "\n",
      "See the caveats in the documentation: http://pandas.pydata.org/pandas-docs/stable/indexing.html#indexing-view-versus-copy\n",
      "  self._update_inplace(new_data)\n"
     ]
    }
   ],
   "source": [
    "def test_train_splitter(data):\n",
    "    X_train_2 = []\n",
    "    X_test_2 = []\n",
    "    y_train_2 = []\n",
    "    y_test_2 = []\n",
    "    X_val_2 = []\n",
    "    y_val_2 = []\n",
    "    for i in range(len(data)):\n",
    "        X, y = data[i].iloc[:,:-1], data[i]['class']\n",
    "        X.drop(['Attr37', 'Attr21'], axis=1, inplace=True)\n",
    "        X_train, X_test, y_train, y_test = train_test_split(X, y, test_size = 0.2, random_state = 9)\n",
    "        X_train.fillna(X_train.median(), inplace=True)\n",
    "        X_test.fillna(X_test.median(), inplace=True)\n",
    "#         Q3 = X_train.quantile(0.75)\n",
    "#         Q1 = X_train.quantile(0.25)\n",
    "#         IQR = Q3 - Q1\n",
    "#         min = Q1 - 1.5 * IQR\n",
    "#         max = Q3 + 1.5 * IQR\n",
    "#         for col in X_train.columns:\n",
    "#             X_train[col][X_train[col] < min[col]] = min[col]\n",
    "#             X_train[col][X_train[col] > max[col]] = max[col]\n",
    "        X_train_v, X_val, y_train, y_val = train_test_split(X_train, y_train, test_size = 0.1, random_state = 9)\n",
    "        X_train_2.append(X_train_v)\n",
    "        X_test_2.append(X_test)\n",
    "        y_train_2.append(y_train)\n",
    "        y_test_2.append(y_test)\n",
    "        X_val_2.append(X_val)\n",
    "        y_val_2.append(y_val)\n",
    "    X_train_fin = pd.concat(X_train_2)\n",
    "    X_test_fin = pd.concat(X_test_2)\n",
    "    y_train_fin = pd.concat(y_train_2)\n",
    "    y_test_fin = pd.concat(y_test_2)\n",
    "    X_val_fin = pd.concat(X_val_2)\n",
    "    y_val_fin = pd.concat(y_val_2)\n",
    "    return X_train_fin, X_test_fin, X_val_fin, y_test_fin, y_train_fin, y_val_fin\n",
    "        \n",
    "X_train, X_test, X_val, y_test, y_train, y_val  = test_train_splitter(test_df)"
   ]
  },
  {
   "cell_type": "code",
   "execution_count": 5,
   "metadata": {
    "collapsed": true
   },
   "outputs": [],
   "source": [
    "# Defined a function for implementing hyper parameter tuning\n",
    "def gridfunc(classifier, parameter, X_train, y_train):\n",
    "        \n",
    "    clf = classifier\n",
    "    np.random.seed(9)\n",
    "    parameters = parameter\n",
    "    acc_scorer = make_scorer(roc_auc_score)\n",
    "    \n",
    "    # Run the grid search\n",
    "    grid_obj = GridSearchCV(clf, parameters, scoring=acc_scorer, n_jobs=-1)\n",
    "    grid_obj = grid_obj.fit(X_train, y_train)\n",
    "    \n",
    "    return grid_obj"
   ]
  },
  {
   "cell_type": "code",
   "execution_count": 6,
   "metadata": {
    "collapsed": true
   },
   "outputs": [],
   "source": [
    "#plot mean scores for a particular grid object\n",
    "\n",
    "def hp_cv_scores(grid_obj):\n",
    "    grid_obj.cv_results_\n",
    "    mean_test_scores = grid_obj.cv_results_['mean_test_score']\n",
    "    mean_train_scores = grid_obj.cv_results_['mean_train_score']\n",
    "    plt.figure(figsize=(10,6))\n",
    "    \n",
    "# #     param_values =[str(x) for x in list(grid_obj.param_grid.items())[0][1]]\n",
    "#     x = np.arange(1, len(param_values)+1)\n",
    "    \n",
    "#     plt.plot(x,mean_train_scores, c='r', label='Train set')\n",
    "#     plt.xticks(x,param_values)\n",
    "#     plt.plot(x,mean_test_scores,c='g', label='Test set')\n",
    "#     plt.xlabel(list(grid_obj.param_grid.items())[0][1])\n",
    "#     plt.ylabel('mean scores')\n",
    "#     plt.legend()\n",
    "#     plt.show()"
   ]
  },
  {
   "cell_type": "code",
   "execution_count": 7,
   "metadata": {
    "collapsed": true
   },
   "outputs": [],
   "source": [
    "classifier = RandomForestClassifier(random_state=9, n_jobs=-1)"
   ]
  },
  {
   "cell_type": "code",
   "execution_count": 8,
   "metadata": {
    "collapsed": true
   },
   "outputs": [],
   "source": [
    "parameter = {'n_estimators': [10,50,100], \n",
    "              'max_features': ['log2', 'sqrt'], \n",
    "              'criterion': ['gini'],\n",
    "              'max_depth': [5, 10], \n",
    "              'min_samples_split': [2],\n",
    "              'min_samples_leaf': [1]\n",
    "             }"
   ]
  },
  {
   "cell_type": "code",
   "execution_count": 9,
   "metadata": {},
   "outputs": [],
   "source": [
    "grid = gridfunc(classifier, parameter, X_val, y_val)"
   ]
  },
  {
   "cell_type": "code",
   "execution_count": 10,
   "metadata": {},
   "outputs": [
    {
     "data": {
      "text/plain": [
       "RandomForestClassifier(bootstrap=True, class_weight=None, criterion='gini',\n",
       "            max_depth=6, max_features='sqrt', max_leaf_nodes=None,\n",
       "            min_impurity_decrease=0.0, min_impurity_split=None,\n",
       "            min_samples_leaf=1, min_samples_split=2,\n",
       "            min_weight_fraction_leaf=0.0, n_estimators=10, n_jobs=-1,\n",
       "            oob_score=False, random_state=9, verbose=0, warm_start=False)"
      ]
     },
     "execution_count": 10,
     "metadata": {},
     "output_type": "execute_result"
    }
   ],
   "source": [
    "grid.best_estimator_"
   ]
  },
  {
   "cell_type": "code",
   "execution_count": 11,
   "metadata": {},
   "outputs": [
    {
     "data": {
      "text/plain": [
       "RandomForestClassifier(bootstrap=True, class_weight=None, criterion='gini',\n",
       "            max_depth=6, max_features='sqrt', max_leaf_nodes=None,\n",
       "            min_impurity_decrease=0.0, min_impurity_split=None,\n",
       "            min_samples_leaf=1, min_samples_split=2,\n",
       "            min_weight_fraction_leaf=0.0, n_estimators=10, n_jobs=-1,\n",
       "            oob_score=False, random_state=9, verbose=0, warm_start=False)"
      ]
     },
     "execution_count": 11,
     "metadata": {},
     "output_type": "execute_result"
    }
   ],
   "source": [
    "clf = grid.best_estimator_\n",
    "    \n",
    "clf.fit(X_train, y_train)"
   ]
  },
  {
   "cell_type": "code",
   "execution_count": 39,
   "metadata": {},
   "outputs": [
    {
     "data": {
      "text/plain": [
       "RandomForestClassifier(bootstrap=True, class_weight=None, criterion='gini',\n",
       "            max_depth=None, max_features='auto', max_leaf_nodes=None,\n",
       "            min_impurity_decrease=0.0, min_impurity_split=None,\n",
       "            min_samples_leaf=1, min_samples_split=2,\n",
       "            min_weight_fraction_leaf=0.0, n_estimators=10, n_jobs=1,\n",
       "            oob_score=False, random_state=9, verbose=0, warm_start=False)"
      ]
     },
     "execution_count": 39,
     "metadata": {},
     "output_type": "execute_result"
    }
   ],
   "source": [
    "clf = RandomForestClassifier(n_estimators=10, random_state=9, criterion='gini')\n",
    "clf.fit(X_train, y_train)"
   ]
  },
  {
   "cell_type": "code",
   "execution_count": 40,
   "metadata": {},
   "outputs": [],
   "source": [
    "y_pred = clf.predict(X_test)"
   ]
  },
  {
   "cell_type": "code",
   "execution_count": 41,
   "metadata": {},
   "outputs": [
    {
     "name": "stdout",
     "output_type": "stream",
     "text": [
      "Accuracy: 95.34%\n",
      "F1_score:  0.242990654206\n",
      "precision_score 0.691489361702\n",
      "recall_score 0.147392290249\n",
      "roc_auc_score 0.571936863397\n",
      "cm matrix [[8213   29]\n",
      " [ 376   65]]\n"
     ]
    },
    {
     "data": {
      "text/plain": [
       "(441, 94)"
      ]
     },
     "execution_count": 41,
     "metadata": {},
     "output_type": "execute_result"
    },
    {
     "data": {
      "image/png": "[encoded data removed]",
      "text/plain": [
       "<matplotlib.figure.Figure at 0x7f18c0917350>"
      ]
     },
     "metadata": {},
     "output_type": "display_data"
    }
   ],
   "source": [
    "print \"Accuracy: %.2f%%\" % (accuracy_score(y_test, y_pred) * 100)\n",
    "print \"F1_score: \", f1_score(y_test, y_pred)\n",
    "print \"precision_score\", precision_score(y_test, y_pred)\n",
    "print \"recall_score\", recall_score(y_test, y_pred)\n",
    "print \"roc_auc_score\", roc_auc_score(y_test, y_pred)\n",
    "print \"cm matrix\", confusion_matrix(y_test, y_pred)\n",
    "scores = [n for m, n in clf.predict_proba(X_test)]\n",
    "fpr, tpr, thresholds = roc_curve(y_test, scores)\n",
    "plt.plot(fpr, tpr)\n",
    "plt.plot([(0,0), (1,1)])\n",
    "len(y_test[y_test == 1]), len(y_pred[y_pred == 1])"
   ]
  },
  {
   "cell_type": "code",
   "execution_count": 42,
   "metadata": {},
   "outputs": [
    {
     "name": "stdout",
     "output_type": "stream",
     "text": [
      "[0]\tvalidation_0-logloss:0.611351\n",
      "Will train until validation_0-logloss hasn't improved in 10 rounds.\n",
      "[1]\tvalidation_0-logloss:0.544157\n",
      "[2]\tvalidation_0-logloss:0.488667\n",
      "[3]\tvalidation_0-logloss:0.441411\n",
      "[4]\tvalidation_0-logloss:0.401292\n",
      "[5]\tvalidation_0-logloss:0.36669\n",
      "[6]\tvalidation_0-logloss:0.337204\n",
      "[7]\tvalidation_0-logloss:0.311297\n",
      "[8]\tvalidation_0-logloss:0.288041\n",
      "[9]\tvalidation_0-logloss:0.268163\n",
      "[10]\tvalidation_0-logloss:0.250884\n",
      "[11]\tvalidation_0-logloss:0.235411\n",
      "[12]\tvalidation_0-logloss:0.221482\n",
      "[13]\tvalidation_0-logloss:0.209677\n",
      "[14]\tvalidation_0-logloss:0.199382\n",
      "[15]\tvalidation_0-logloss:0.190064\n",
      "[16]\tvalidation_0-logloss:0.18138\n",
      "[17]\tvalidation_0-logloss:0.173878\n",
      "[18]\tvalidation_0-logloss:0.167425\n",
      "[19]\tvalidation_0-logloss:0.161679\n",
      "[20]\tvalidation_0-logloss:0.156124\n",
      "[21]\tvalidation_0-logloss:0.151399\n",
      "[22]\tvalidation_0-logloss:0.146998\n",
      "[23]\tvalidation_0-logloss:0.14326\n",
      "[24]\tvalidation_0-logloss:0.139641\n",
      "[25]\tvalidation_0-logloss:0.136303\n",
      "[26]\tvalidation_0-logloss:0.133562\n",
      "[27]\tvalidation_0-logloss:0.131059\n",
      "[28]\tvalidation_0-logloss:0.128335\n",
      "[29]\tvalidation_0-logloss:0.126103\n",
      "[30]\tvalidation_0-logloss:0.124328\n",
      "[31]\tvalidation_0-logloss:0.122756\n",
      "[32]\tvalidation_0-logloss:0.121035\n",
      "[33]\tvalidation_0-logloss:0.119216\n",
      "[34]\tvalidation_0-logloss:0.117706\n",
      "[35]\tvalidation_0-logloss:0.116802\n",
      "[36]\tvalidation_0-logloss:0.115649\n",
      "[37]\tvalidation_0-logloss:0.114356\n",
      "[38]\tvalidation_0-logloss:0.113573\n",
      "[39]\tvalidation_0-logloss:0.112645\n",
      "[40]\tvalidation_0-logloss:0.111522\n",
      "[41]\tvalidation_0-logloss:0.110473\n",
      "[42]\tvalidation_0-logloss:0.109937\n",
      "[43]\tvalidation_0-logloss:0.109537\n",
      "[44]\tvalidation_0-logloss:0.108662\n",
      "[45]\tvalidation_0-logloss:0.108255\n",
      "[46]\tvalidation_0-logloss:0.107571\n",
      "[47]\tvalidation_0-logloss:0.107195\n",
      "[48]\tvalidation_0-logloss:0.106652\n",
      "[49]\tvalidation_0-logloss:0.106203\n",
      "[50]\tvalidation_0-logloss:0.105555\n",
      "[51]\tvalidation_0-logloss:0.105172\n",
      "[52]\tvalidation_0-logloss:0.104833\n",
      "[53]\tvalidation_0-logloss:0.104342\n",
      "[54]\tvalidation_0-logloss:0.10371\n",
      "[55]\tvalidation_0-logloss:0.1032\n",
      "[56]\tvalidation_0-logloss:0.102887\n",
      "[57]\tvalidation_0-logloss:0.102753\n",
      "[58]\tvalidation_0-logloss:0.102262\n",
      "[59]\tvalidation_0-logloss:0.102013\n",
      "[60]\tvalidation_0-logloss:0.101885\n",
      "[61]\tvalidation_0-logloss:0.101609\n",
      "[62]\tvalidation_0-logloss:0.101547\n",
      "[63]\tvalidation_0-logloss:0.101159\n",
      "[64]\tvalidation_0-logloss:0.100333\n",
      "[65]\tvalidation_0-logloss:0.099939\n",
      "[66]\tvalidation_0-logloss:0.09978\n",
      "[67]\tvalidation_0-logloss:0.09841\n",
      "[68]\tvalidation_0-logloss:0.098306\n",
      "[69]\tvalidation_0-logloss:0.098027\n",
      "[70]\tvalidation_0-logloss:0.097675\n",
      "[71]\tvalidation_0-logloss:0.097123\n",
      "[72]\tvalidation_0-logloss:0.096909\n",
      "[73]\tvalidation_0-logloss:0.096464\n",
      "[74]\tvalidation_0-logloss:0.096395\n",
      "[75]\tvalidation_0-logloss:0.096271\n",
      "[76]\tvalidation_0-logloss:0.09611\n",
      "[77]\tvalidation_0-logloss:0.095976\n",
      "[78]\tvalidation_0-logloss:0.095207\n",
      "[79]\tvalidation_0-logloss:0.095145\n",
      "[80]\tvalidation_0-logloss:0.095113\n",
      "[81]\tvalidation_0-logloss:0.095069\n",
      "[82]\tvalidation_0-logloss:0.094749\n",
      "[83]\tvalidation_0-logloss:0.094391\n",
      "[84]\tvalidation_0-logloss:0.094014\n",
      "[85]\tvalidation_0-logloss:0.093658\n",
      "[86]\tvalidation_0-logloss:0.093695\n",
      "[87]\tvalidation_0-logloss:0.093444\n",
      "[88]\tvalidation_0-logloss:0.093107\n",
      "[89]\tvalidation_0-logloss:0.092888\n",
      "[90]\tvalidation_0-logloss:0.092804\n",
      "[91]\tvalidation_0-logloss:0.09283\n",
      "[92]\tvalidation_0-logloss:0.09275\n",
      "[93]\tvalidation_0-logloss:0.0925\n",
      "[94]\tvalidation_0-logloss:0.092443\n",
      "[95]\tvalidation_0-logloss:0.092316\n",
      "[96]\tvalidation_0-logloss:0.092313\n",
      "[97]\tvalidation_0-logloss:0.092279\n",
      "[98]\tvalidation_0-logloss:0.092175\n",
      "[99]\tvalidation_0-logloss:0.091848\n",
      "Accuracy: 96.13%\n",
      "F1_score:  0.391304347826\n",
      "precision_score 0.972972972973\n",
      "recall_score 0.244897959184\n",
      "roc_auc_score 0.62226698493\n",
      "cm matrix [[8239    3]\n",
      " [ 333  108]]\n"
     ]
    },
    {
     "data": {
      "text/plain": [
       "(441, 111)"
      ]
     },
     "execution_count": 42,
     "metadata": {},
     "output_type": "execute_result"
    },
    {
     "data": {
      "image/png": "[encoded data removed]",
      "text/plain": [
       "<matplotlib.figure.Figure at 0x7f18c085c610>"
      ]
     },
     "metadata": {},
     "output_type": "display_data"
    }
   ],
   "source": [
    "model = XGBClassifier()\n",
    "eval_set = [(X_val, y_val)]\n",
    "model.fit(X_train, y_train, early_stopping_rounds=10, eval_metric=\"logloss\", eval_set=eval_set, verbose=True)\n",
    "y_pred = model.predict(X_test)\n",
    "print \"Accuracy: %.2f%%\" % (accuracy_score(y_test, y_pred) * 100)\n",
    "print \"F1_score: \", f1_score(y_test, y_pred)\n",
    "print \"precision_score\", precision_score(y_test, y_pred)\n",
    "print \"recall_score\", recall_score(y_test, y_pred)\n",
    "print \"roc_auc_score\", roc_auc_score(y_test, y_pred)\n",
    "print \"cm matrix\", confusion_matrix(y_test, y_pred)\n",
    "scores = [n for m, n in model.predict_proba(X_test)]\n",
    "fpr, tpr, thresholds = roc_curve(y_test, scores)\n",
    "plt.plot(fpr, tpr)\n",
    "plt.plot([(0,0), (1,1)])\n",
    "len(y_test[y_test == 1]), len(y_pred[y_pred == 1])"
   ]
  },
  {
   "cell_type": "code",
   "execution_count": 43,
   "metadata": {},
   "outputs": [
    {
     "data": {
      "image/png": "[encoded data removed]",
      "text/plain": [
       "<matplotlib.figure.Figure at 0x7f18f828d890>"
      ]
     },
     "metadata": {},
     "output_type": "display_data"
    }
   ],
   "source": [
    "smote = SMOTE(random_state=9, kind = 'borderline2')\n",
    "X_smote, y_smote = smote.fit_sample(X_train, y_train)\n",
    "X_smote2 = pd.DataFrame(data=X_smote, columns=X_train.columns)[selected_features.index].copy()\n",
    "sns.countplot(y_smote)\n",
    "plt.show()"
   ]
  },
  {
   "cell_type": "code",
   "execution_count": 44,
   "metadata": {},
   "outputs": [
    {
     "ename": "ValueError",
     "evalue": "feature_names mismatch: ['f0', 'f1', 'f2', 'f3', 'f4', 'f5', 'f6', 'f7', 'f8', 'f9', 'f10', 'f11', 'f12', 'f13', 'f14', 'f15', 'f16', 'f17', 'f18', 'f19', 'f20', 'f21', 'f22', 'f23', 'f24', 'f25', 'f26', 'f27', 'f28', 'f29', 'f30', 'f31', 'f32', 'f33', 'f34', 'f35', 'f36', 'f37', 'f38', 'f39', 'f40', 'f41', 'f42', 'f43', 'f44', 'f45', 'f46', 'f47', 'f48', 'f49', 'f50', 'f51', 'f52', 'f53', 'f54', 'f55', 'f56', 'f57', 'f58', 'f59', 'f60', 'f61'] [u'Attr1', u'Attr2', u'Attr3', u'Attr4', u'Attr5', u'Attr6', u'Attr7', u'Attr8', u'Attr9', u'Attr10', u'Attr11', u'Attr12', u'Attr13', u'Attr14', u'Attr15', u'Attr16', u'Attr17', u'Attr18', u'Attr19', u'Attr20', u'Attr22', u'Attr23', u'Attr24', u'Attr25', u'Attr26', u'Attr27', u'Attr28', u'Attr29', u'Attr30', u'Attr31', u'Attr32', u'Attr33', u'Attr34', u'Attr35', u'Attr36', u'Attr38', u'Attr39', u'Attr40', u'Attr41', u'Attr42', u'Attr43', u'Attr44', u'Attr45', u'Attr46', u'Attr47', u'Attr48', u'Attr49', u'Attr50', u'Attr51', u'Attr52', u'Attr53', u'Attr54', u'Attr55', u'Attr56', u'Attr57', u'Attr58', u'Attr59', u'Attr60', u'Attr61', u'Attr62', u'Attr63', u'Attr64']\nexpected f0, f1, f2, f3, f4, f5, f6, f7, f8, f9, f41, f40, f43, f42, f45, f44, f47, f46, f49, f48, f18, f23, f22, f21, f20, f27, f26, f25, f24, f29, f28, f61, f60, f12, f13, f19, f56, f57, f54, f55, f52, f53, f50, f51, f58, f59, f30, f31, f32, f33, f34, f35, f36, f37, f38, f39, f10, f11, f16, f17, f14, f15 in input data\ntraining data did not have the following fields: Attr20, Attr28, Attr54, Attr55, Attr56, Attr57, Attr50, Attr51, Attr52, Attr53, Attr58, Attr59, Attr10, Attr11, Attr12, Attr13, Attr14, Attr15, Attr30, Attr17, Attr18, Attr19, Attr38, Attr39, Attr6, Attr7, Attr4, Attr5, Attr2, Attr3, Attr1, Attr8, Attr9, Attr31, Attr36, Attr34, Attr43, Attr42, Attr41, Attr35, Attr47, Attr46, Attr45, Attr44, Attr32, Attr49, Attr48, Attr33, Attr25, Attr24, Attr27, Attr26, Attr16, Attr23, Attr22, Attr61, Attr60, Attr63, Attr62, Attr29, Attr64, Attr40",
     "output_type": "error",
     "traceback": [
      "\u001b[0;31m---------------------------------------------------------------------------\u001b[0m",
      "\u001b[0;31mValueError\u001b[0m                                Traceback (most recent call last)",
      "\u001b[0;32m<ipython-input-44-a7d86f31d6fb>\u001b[0m in \u001b[0;36m<module>\u001b[0;34m()\u001b[0m\n\u001b[1;32m      1\u001b[0m \u001b[0mmodel\u001b[0m \u001b[0;34m=\u001b[0m \u001b[0mXGBClassifier\u001b[0m\u001b[0;34m(\u001b[0m\u001b[0;34m)\u001b[0m\u001b[0;34m\u001b[0m\u001b[0m\n\u001b[1;32m      2\u001b[0m \u001b[0meval_set\u001b[0m \u001b[0;34m=\u001b[0m \u001b[0;34m[\u001b[0m\u001b[0;34m(\u001b[0m\u001b[0mX_val\u001b[0m\u001b[0;34m,\u001b[0m \u001b[0my_val\u001b[0m\u001b[0;34m)\u001b[0m\u001b[0;34m]\u001b[0m\u001b[0;34m\u001b[0m\u001b[0m\n\u001b[0;32m----> 3\u001b[0;31m \u001b[0mmodel\u001b[0m\u001b[0;34m.\u001b[0m\u001b[0mfit\u001b[0m\u001b[0;34m(\u001b[0m\u001b[0mX_smote\u001b[0m\u001b[0;34m,\u001b[0m \u001b[0my_smote\u001b[0m\u001b[0;34m,\u001b[0m \u001b[0mearly_stopping_rounds\u001b[0m\u001b[0;34m=\u001b[0m\u001b[0;36m10\u001b[0m\u001b[0;34m,\u001b[0m \u001b[0meval_metric\u001b[0m\u001b[0;34m=\u001b[0m\u001b[0;34m\"logloss\"\u001b[0m\u001b[0;34m,\u001b[0m \u001b[0meval_set\u001b[0m\u001b[0;34m=\u001b[0m\u001b[0meval_set\u001b[0m\u001b[0;34m,\u001b[0m \u001b[0mverbose\u001b[0m\u001b[0;34m=\u001b[0m\u001b[0mTrue\u001b[0m\u001b[0;34m)\u001b[0m\u001b[0;34m\u001b[0m\u001b[0m\n\u001b[0m\u001b[1;32m      4\u001b[0m \u001b[0my_pred\u001b[0m \u001b[0;34m=\u001b[0m \u001b[0mmodel\u001b[0m\u001b[0;34m.\u001b[0m\u001b[0mpredict\u001b[0m\u001b[0;34m(\u001b[0m\u001b[0mX_test\u001b[0m\u001b[0;34m)\u001b[0m\u001b[0;34m\u001b[0m\u001b[0m\n\u001b[1;32m      5\u001b[0m \u001b[0;32mprint\u001b[0m \u001b[0;34m\"Accuracy: %.2f%%\"\u001b[0m \u001b[0;34m%\u001b[0m \u001b[0;34m(\u001b[0m\u001b[0maccuracy_score\u001b[0m\u001b[0;34m(\u001b[0m\u001b[0my_test\u001b[0m\u001b[0;34m,\u001b[0m \u001b[0my_pred\u001b[0m\u001b[0;34m)\u001b[0m \u001b[0;34m*\u001b[0m \u001b[0;36m100\u001b[0m\u001b[0;34m)\u001b[0m\u001b[0;34m\u001b[0m\u001b[0m\n",
      "\u001b[0;32m/home/sid/anaconda2/lib/python2.7/site-packages/xgboost/sklearn.pyc\u001b[0m in \u001b[0;36mfit\u001b[0;34m(self, X, y, sample_weight, eval_set, eval_metric, early_stopping_rounds, verbose)\u001b[0m\n\u001b[1;32m    443\u001b[0m                               \u001b[0mearly_stopping_rounds\u001b[0m\u001b[0;34m=\u001b[0m\u001b[0mearly_stopping_rounds\u001b[0m\u001b[0;34m,\u001b[0m\u001b[0;34m\u001b[0m\u001b[0m\n\u001b[1;32m    444\u001b[0m                               \u001b[0mevals_result\u001b[0m\u001b[0;34m=\u001b[0m\u001b[0mevals_result\u001b[0m\u001b[0;34m,\u001b[0m \u001b[0mobj\u001b[0m\u001b[0;34m=\u001b[0m\u001b[0mobj\u001b[0m\u001b[0;34m,\u001b[0m \u001b[0mfeval\u001b[0m\u001b[0;34m=\u001b[0m\u001b[0mfeval\u001b[0m\u001b[0;34m,\u001b[0m\u001b[0;34m\u001b[0m\u001b[0m\n\u001b[0;32m--> 445\u001b[0;31m                               verbose_eval=verbose)\n\u001b[0m\u001b[1;32m    446\u001b[0m \u001b[0;34m\u001b[0m\u001b[0m\n\u001b[1;32m    447\u001b[0m         \u001b[0mself\u001b[0m\u001b[0;34m.\u001b[0m\u001b[0mobjective\u001b[0m \u001b[0;34m=\u001b[0m \u001b[0mxgb_options\u001b[0m\u001b[0;34m[\u001b[0m\u001b[0;34m\"objective\"\u001b[0m\u001b[0;34m]\u001b[0m\u001b[0;34m\u001b[0m\u001b[0m\n",
      "\u001b[0;32m/home/sid/anaconda2/lib/python2.7/site-packages/xgboost/training.pyc\u001b[0m in \u001b[0;36mtrain\u001b[0;34m(params, dtrain, num_boost_round, evals, obj, feval, maximize, early_stopping_rounds, evals_result, verbose_eval, learning_rates, xgb_model, callbacks)\u001b[0m\n\u001b[1;32m    203\u001b[0m                            \u001b[0mevals\u001b[0m\u001b[0;34m=\u001b[0m\u001b[0mevals\u001b[0m\u001b[0;34m,\u001b[0m\u001b[0;34m\u001b[0m\u001b[0m\n\u001b[1;32m    204\u001b[0m                            \u001b[0mobj\u001b[0m\u001b[0;34m=\u001b[0m\u001b[0mobj\u001b[0m\u001b[0;34m,\u001b[0m \u001b[0mfeval\u001b[0m\u001b[0;34m=\u001b[0m\u001b[0mfeval\u001b[0m\u001b[0;34m,\u001b[0m\u001b[0;34m\u001b[0m\u001b[0m\n\u001b[0;32m--> 205\u001b[0;31m                            xgb_model=xgb_model, callbacks=callbacks)\n\u001b[0m\u001b[1;32m    206\u001b[0m \u001b[0;34m\u001b[0m\u001b[0m\n\u001b[1;32m    207\u001b[0m \u001b[0;34m\u001b[0m\u001b[0m\n",
      "\u001b[0;32m/home/sid/anaconda2/lib/python2.7/site-packages/xgboost/training.pyc\u001b[0m in \u001b[0;36m_train_internal\u001b[0;34m(params, dtrain, num_boost_round, evals, obj, feval, xgb_model, callbacks)\u001b[0m\n\u001b[1;32m     30\u001b[0m             \u001b[0mparams\u001b[0m \u001b[0;34m+=\u001b[0m \u001b[0;34m[\u001b[0m\u001b[0;34m(\u001b[0m\u001b[0;34m'eval_metric'\u001b[0m\u001b[0;34m,\u001b[0m \u001b[0meval_metric\u001b[0m\u001b[0;34m)\u001b[0m\u001b[0;34m]\u001b[0m\u001b[0;34m\u001b[0m\u001b[0m\n\u001b[1;32m     31\u001b[0m \u001b[0;34m\u001b[0m\u001b[0m\n\u001b[0;32m---> 32\u001b[0;31m     \u001b[0mbst\u001b[0m \u001b[0;34m=\u001b[0m \u001b[0mBooster\u001b[0m\u001b[0;34m(\u001b[0m\u001b[0mparams\u001b[0m\u001b[0;34m,\u001b[0m \u001b[0;34m[\u001b[0m\u001b[0mdtrain\u001b[0m\u001b[0;34m]\u001b[0m \u001b[0;34m+\u001b[0m \u001b[0;34m[\u001b[0m\u001b[0md\u001b[0m\u001b[0;34m[\u001b[0m\u001b[0;36m0\u001b[0m\u001b[0;34m]\u001b[0m \u001b[0;32mfor\u001b[0m \u001b[0md\u001b[0m \u001b[0;32min\u001b[0m \u001b[0mevals\u001b[0m\u001b[0;34m]\u001b[0m\u001b[0;34m)\u001b[0m\u001b[0;34m\u001b[0m\u001b[0m\n\u001b[0m\u001b[1;32m     33\u001b[0m     \u001b[0mnboost\u001b[0m \u001b[0;34m=\u001b[0m \u001b[0;36m0\u001b[0m\u001b[0;34m\u001b[0m\u001b[0m\n\u001b[1;32m     34\u001b[0m     \u001b[0mnum_parallel_tree\u001b[0m \u001b[0;34m=\u001b[0m \u001b[0;36m1\u001b[0m\u001b[0;34m\u001b[0m\u001b[0m\n",
      "\u001b[0;32m/home/sid/anaconda2/lib/python2.7/site-packages/xgboost/core.pyc\u001b[0m in \u001b[0;36m__init__\u001b[0;34m(self, params, cache, model_file)\u001b[0m\n\u001b[1;32m    643\u001b[0m             \u001b[0;32mif\u001b[0m \u001b[0;32mnot\u001b[0m \u001b[0misinstance\u001b[0m\u001b[0;34m(\u001b[0m\u001b[0md\u001b[0m\u001b[0;34m,\u001b[0m \u001b[0mDMatrix\u001b[0m\u001b[0;34m)\u001b[0m\u001b[0;34m:\u001b[0m\u001b[0;34m\u001b[0m\u001b[0m\n\u001b[1;32m    644\u001b[0m                 \u001b[0;32mraise\u001b[0m \u001b[0mTypeError\u001b[0m\u001b[0;34m(\u001b[0m\u001b[0;34m'invalid cache item: {}'\u001b[0m\u001b[0;34m.\u001b[0m\u001b[0mformat\u001b[0m\u001b[0;34m(\u001b[0m\u001b[0mtype\u001b[0m\u001b[0;34m(\u001b[0m\u001b[0md\u001b[0m\u001b[0;34m)\u001b[0m\u001b[0;34m.\u001b[0m\u001b[0m__name__\u001b[0m\u001b[0;34m)\u001b[0m\u001b[0;34m)\u001b[0m\u001b[0;34m\u001b[0m\u001b[0m\n\u001b[0;32m--> 645\u001b[0;31m             \u001b[0mself\u001b[0m\u001b[0;34m.\u001b[0m\u001b[0m_validate_features\u001b[0m\u001b[0;34m(\u001b[0m\u001b[0md\u001b[0m\u001b[0;34m)\u001b[0m\u001b[0;34m\u001b[0m\u001b[0m\n\u001b[0m\u001b[1;32m    646\u001b[0m \u001b[0;34m\u001b[0m\u001b[0m\n\u001b[1;32m    647\u001b[0m         \u001b[0mdmats\u001b[0m \u001b[0;34m=\u001b[0m \u001b[0mc_array\u001b[0m\u001b[0;34m(\u001b[0m\u001b[0mctypes\u001b[0m\u001b[0;34m.\u001b[0m\u001b[0mc_void_p\u001b[0m\u001b[0;34m,\u001b[0m \u001b[0;34m[\u001b[0m\u001b[0md\u001b[0m\u001b[0;34m.\u001b[0m\u001b[0mhandle\u001b[0m \u001b[0;32mfor\u001b[0m \u001b[0md\u001b[0m \u001b[0;32min\u001b[0m \u001b[0mcache\u001b[0m\u001b[0;34m]\u001b[0m\u001b[0;34m)\u001b[0m\u001b[0;34m\u001b[0m\u001b[0m\n",
      "\u001b[0;32m/home/sid/anaconda2/lib/python2.7/site-packages/xgboost/core.pyc\u001b[0m in \u001b[0;36m_validate_features\u001b[0;34m(self, data)\u001b[0m\n\u001b[1;32m   1177\u001b[0m \u001b[0;34m\u001b[0m\u001b[0m\n\u001b[1;32m   1178\u001b[0m                 raise ValueError(msg.format(self.feature_names,\n\u001b[0;32m-> 1179\u001b[0;31m                                             data.feature_names))\n\u001b[0m\u001b[1;32m   1180\u001b[0m \u001b[0;34m\u001b[0m\u001b[0m\n\u001b[1;32m   1181\u001b[0m     \u001b[0;32mdef\u001b[0m \u001b[0mget_split_value_histogram\u001b[0m\u001b[0;34m(\u001b[0m\u001b[0mself\u001b[0m\u001b[0;34m,\u001b[0m \u001b[0mfeature\u001b[0m\u001b[0;34m,\u001b[0m \u001b[0mfmap\u001b[0m\u001b[0;34m=\u001b[0m\u001b[0;34m''\u001b[0m\u001b[0;34m,\u001b[0m \u001b[0mbins\u001b[0m\u001b[0;34m=\u001b[0m\u001b[0mNone\u001b[0m\u001b[0;34m,\u001b[0m \u001b[0mas_pandas\u001b[0m\u001b[0;34m=\u001b[0m\u001b[0mTrue\u001b[0m\u001b[0;34m)\u001b[0m\u001b[0;34m:\u001b[0m\u001b[0;34m\u001b[0m\u001b[0m\n",
      "\u001b[0;31mValueError\u001b[0m: feature_names mismatch: ['f0', 'f1', 'f2', 'f3', 'f4', 'f5', 'f6', 'f7', 'f8', 'f9', 'f10', 'f11', 'f12', 'f13', 'f14', 'f15', 'f16', 'f17', 'f18', 'f19', 'f20', 'f21', 'f22', 'f23', 'f24', 'f25', 'f26', 'f27', 'f28', 'f29', 'f30', 'f31', 'f32', 'f33', 'f34', 'f35', 'f36', 'f37', 'f38', 'f39', 'f40', 'f41', 'f42', 'f43', 'f44', 'f45', 'f46', 'f47', 'f48', 'f49', 'f50', 'f51', 'f52', 'f53', 'f54', 'f55', 'f56', 'f57', 'f58', 'f59', 'f60', 'f61'] [u'Attr1', u'Attr2', u'Attr3', u'Attr4', u'Attr5', u'Attr6', u'Attr7', u'Attr8', u'Attr9', u'Attr10', u'Attr11', u'Attr12', u'Attr13', u'Attr14', u'Attr15', u'Attr16', u'Attr17', u'Attr18', u'Attr19', u'Attr20', u'Attr22', u'Attr23', u'Attr24', u'Attr25', u'Attr26', u'Attr27', u'Attr28', u'Attr29', u'Attr30', u'Attr31', u'Attr32', u'Attr33', u'Attr34', u'Attr35', u'Attr36', u'Attr38', u'Attr39', u'Attr40', u'Attr41', u'Attr42', u'Attr43', u'Attr44', u'Attr45', u'Attr46', u'Attr47', u'Attr48', u'Attr49', u'Attr50', u'Attr51', u'Attr52', u'Attr53', u'Attr54', u'Attr55', u'Attr56', u'Attr57', u'Attr58', u'Attr59', u'Attr60', u'Attr61', u'Attr62', u'Attr63', u'Attr64']\nexpected f0, f1, f2, f3, f4, f5, f6, f7, f8, f9, f41, f40, f43, f42, f45, f44, f47, f46, f49, f48, f18, f23, f22, f21, f20, f27, f26, f25, f24, f29, f28, f61, f60, f12, f13, f19, f56, f57, f54, f55, f52, f53, f50, f51, f58, f59, f30, f31, f32, f33, f34, f35, f36, f37, f38, f39, f10, f11, f16, f17, f14, f15 in input data\ntraining data did not have the following fields: Attr20, Attr28, Attr54, Attr55, Attr56, Attr57, Attr50, Attr51, Attr52, Attr53, Attr58, Attr59, Attr10, Attr11, Attr12, Attr13, Attr14, Attr15, Attr30, Attr17, Attr18, Attr19, Attr38, Attr39, Attr6, Attr7, Attr4, Attr5, Attr2, Attr3, Attr1, Attr8, Attr9, Attr31, Attr36, Attr34, Attr43, Attr42, Attr41, Attr35, Attr47, Attr46, Attr45, Attr44, Attr32, Attr49, Attr48, Attr33, Attr25, Attr24, Attr27, Attr26, Attr16, Attr23, Attr22, Attr61, Attr60, Attr63, Attr62, Attr29, Attr64, Attr40"
     ]
    }
   ],
   "source": [
    "model = XGBClassifier()\n",
    "eval_set = [(X_val, y_val)]\n",
    "model.fit(X_smote, y_smote, early_stopping_rounds=10, eval_metric=\"logloss\", eval_set=eval_set, verbose=True)\n",
    "y_pred = model.predict(X_test)\n",
    "print \"Accuracy: %.2f%%\" % (accuracy_score(y_test, y_pred) * 100)\n",
    "print \"F1_score: \", f1_score(y_test, y_pred)\n",
    "print \"precision_score\", precision_score(y_test, y_pred)\n",
    "print \"recall_score\", recall_score(y_test, y_pred)\n",
    "print \"roc_auc_score\", roc_auc_score(y_test, y_pred)\n",
    "print \"cm matrix\", confusion_matrix(y_test, y_pred)\n",
    "scores = [n for m, n in model.predict_proba(X_test)]\n",
    "fpr, tpr, thresholds = roc_curve(y_test, scores)\n",
    "plt.plot(fpr, tpr)\n",
    "plt.plot([(0,0), (1,1)])\n",
    "len(y_test[y_test == 1]), len(y_pred[y_pred == 1])"
   ]
  },
  {
   "cell_type": "code",
   "execution_count": null,
   "metadata": {
    "collapsed": true
   },
   "outputs": [],
   "source": []
  }
 ],
 "metadata": {
  "kernelspec": {
   "display_name": "Python 2",
   "language": "python",
   "name": "python2"
  },
  "language_info": {
   "codemirror_mode": {
    "name": "ipython",
    "version": 2
   },
   "file_extension": ".py",
   "mimetype": "text/x-python",
   "name": "python",
   "nbconvert_exporter": "python",
   "pygments_lexer": "ipython2",
   "version": "2.7.11"
  }
 },
 "nbformat": 4,
 "nbformat_minor": 2
}
