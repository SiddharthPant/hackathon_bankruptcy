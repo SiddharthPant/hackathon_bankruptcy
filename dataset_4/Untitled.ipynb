{
 "cells": [
  {
   "cell_type": "code",
   "execution_count": 2,
   "metadata": {
    "collapsed": true
   },
   "outputs": [],
   "source": [
    "# %load /home/sid/libs.txt\n",
    "import numpy as np\n",
    "import pandas as pd\n",
    "import matplotlib.pyplot as plt\n",
    "import seaborn as sns\n",
    "from imblearn.over_sampling import SMOTE\n",
    "from sklearn.linear_model import LogisticRegression\n",
    "from sklearn.model_selection import train_test_split\n",
    "from sklearn.metrics import f1_score, confusion_matrix\n",
    "from sklearn.metrics import precision_score, recall_score\n",
    "from sklearn.metrics import roc_auc_score\n",
    "from sklearn.metrics import roc_curve\n",
    "from scipy.io.arff import loadarff\n",
    "from sklearn.ensemble import RandomForestClassifier\n",
    "%matplotlib inline"
   ]
  },
  {
   "cell_type": "code",
   "execution_count": 3,
   "metadata": {
    "collapsed": true
   },
   "outputs": [],
   "source": [
    "def big_data_prep(*files):\n",
    "   big_data = [pd.DataFrame(loadarff(file)[0]) for file in files]\n",
    "   return pd.concat(big_data)"
   ]
  },
  {
   "cell_type": "code",
   "execution_count": 4,
   "metadata": {
    "collapsed": true
   },
   "outputs": [],
   "source": [
    "big_data = big_data_prep('data/1year.arff', 'data/2year.arff', 'data/3year.arff', 'data/4year.arff', 'data/5year.arff')"
   ]
  },
  {
   "cell_type": "code",
   "execution_count": 5,
   "metadata": {
    "collapsed": true
   },
   "outputs": [],
   "source": [
    "big_data['class'] = [int(n) for n in big_data['class']]"
   ]
  },
  {
   "cell_type": "code",
   "execution_count": 15,
   "metadata": {},
   "outputs": [
    {
     "data": {
      "text/plain": [
       "Attr37    18984\n",
       "Attr21     5854\n",
       "Attr27     2764\n",
       "Attr60     2152\n",
       "Attr45     2147\n",
       "Attr24      922\n",
       "Attr28      812\n",
       "Attr64      812\n",
       "Attr54      812\n",
       "Attr53      812\n",
       "Attr41      754\n",
       "Attr32      368\n",
       "Attr52      301\n",
       "Attr47      297\n",
       "Attr46      135\n",
       "Attr12      134\n",
       "Attr33      134\n",
       "Attr40      134\n",
       "Attr4       134\n",
       "Attr63      134\n",
       "Attr19      128\n",
       "Attr31      127\n",
       "Attr62      127\n",
       "Attr20      127\n",
       "Attr30      127\n",
       "Attr49      127\n",
       "Attr56      127\n",
       "Attr23      127\n",
       "Attr39      127\n",
       "Attr13      127\n",
       "          ...  \n",
       "Attr26       95\n",
       "Attr17       94\n",
       "Attr34       94\n",
       "Attr50       94\n",
       "Attr8        94\n",
       "Attr5        89\n",
       "Attr58       84\n",
       "Attr11       44\n",
       "Attr15       36\n",
       "Attr9         9\n",
       "Attr48        9\n",
       "Attr10        8\n",
       "Attr2         8\n",
       "Attr3         8\n",
       "Attr7         8\n",
       "Attr6         8\n",
       "Attr1         8\n",
       "Attr14        8\n",
       "Attr18        8\n",
       "Attr22        8\n",
       "Attr25        8\n",
       "Attr29        8\n",
       "Attr35        8\n",
       "Attr36        8\n",
       "Attr38        8\n",
       "Attr51        8\n",
       "Attr57        7\n",
       "Attr59        7\n",
       "Attr55        1\n",
       "class         0\n",
       "Length: 65, dtype: int64"
      ]
     },
     "execution_count": 15,
     "metadata": {},
     "output_type": "execute_result"
    }
   ],
   "source": [
    "big_data.isnull().sum().sort_values(ascending=False)"
   ]
  },
  {
   "cell_type": "code",
   "execution_count": 17,
   "metadata": {},
   "outputs": [
    {
     "data": {
      "text/plain": [
       "(43405, 65)"
      ]
     },
     "execution_count": 17,
     "metadata": {},
     "output_type": "execute_result"
    }
   ],
   "source": [
    "big_data.copy().dropna(how='all').shape"
   ]
  },
  {
   "cell_type": "code",
   "execution_count": 18,
   "metadata": {},
   "outputs": [
    {
     "data": {
      "text/plain": [
       "(43405, 65)"
      ]
     },
     "execution_count": 18,
     "metadata": {},
     "output_type": "execute_result"
    }
   ],
   "source": [
    "big_data.shape"
   ]
  },
  {
   "cell_type": "code",
   "execution_count": 35,
   "metadata": {},
   "outputs": [
    {
     "data": {
      "text/plain": [
       "<matplotlib.axes._subplots.AxesSubplot at 0x7f5b43427d50>"
      ]
     },
     "execution_count": 35,
     "metadata": {},
     "output_type": "execute_result"
    },
    {
     "data": {
      "image/png": "[encoded data removed]",
      "text/plain": [
       "<matplotlib.figure.Figure at 0x7f5b43427850>"
      ]
     },
     "metadata": {},
     "output_type": "display_data"
    }
   ],
   "source": [
    "sns.boxplot(big_data['Attr27'])"
   ]
  },
  {
   "cell_type": "code",
   "execution_count": 38,
   "metadata": {},
   "outputs": [
    {
     "data": {
      "text/plain": [
       " 0.05812         1\n",
       " 7.13340         1\n",
       "-11.65200        1\n",
       " 0.57189         1\n",
       "-0.34083         1\n",
       " 0.49595         1\n",
       " 7.14340         1\n",
       " 11.68900        1\n",
       " 0.69065         1\n",
       " 0.92421         1\n",
       " 1.71870         1\n",
       " 0.19290         1\n",
       " 0.20459         1\n",
       " 0.50795         1\n",
       " 13.81100        1\n",
       " 5.52050         1\n",
       " 1.82890         1\n",
       " 1.69750         1\n",
       " 0.53107         1\n",
       " 8.64650         1\n",
       " 1.10930         1\n",
       " 0.61329         1\n",
       " 2.31900         1\n",
       " 0.19874         1\n",
       " 0.45489         1\n",
       " 0.12799         1\n",
       "-884.24000       1\n",
       "-3.95010         1\n",
       " 15.55800        1\n",
       " 2.06140         1\n",
       "              ... \n",
       " 1.18030         4\n",
       " 1.08200         4\n",
       " 2.25000         4\n",
       " 2.00000         4\n",
       " 1.28640         4\n",
       " 1.02980         4\n",
       " 15.69700        4\n",
       " 16.15200        4\n",
       " 1.15110         4\n",
       " 1.09100         4\n",
       " 1.36630         4\n",
       " 1.57170         4\n",
       " 1.17620         4\n",
       " 1.25660         4\n",
       " 2.10010         4\n",
       " 1.16430         4\n",
       " 1.25690         4\n",
       " 1.35740         4\n",
       " 1.86440         4\n",
       " 1.41700         4\n",
       " 2.22730         5\n",
       " 8.64990         5\n",
       " 1.82450         5\n",
       " 1.40520         5\n",
       " 1.02280         5\n",
       " 1.02090         5\n",
       " 1.73220         5\n",
       " 2.40510         7\n",
       "-10.00000       19\n",
       " 0.00000      2970\n",
       "Name: Attr27, Length: 34178, dtype: int64"
      ]
     },
     "execution_count": 38,
     "metadata": {},
     "output_type": "execute_result"
    }
   ],
   "source": [
    "big_data['Attr27'].value_counts().sort_values()"
   ]
  },
  {
   "cell_type": "code",
   "execution_count": 58,
   "metadata": {},
   "outputs": [],
   "source": [
    "test_data = big_data[['Attr27','class']]"
   ]
  },
  {
   "cell_type": "code",
   "execution_count": 59,
   "metadata": {},
   "outputs": [],
   "source": [
    "data27 = test_data[test_data['class'] == 1]['Attr27']"
   ]
  },
  {
   "cell_type": "code",
   "execution_count": 60,
   "metadata": {},
   "outputs": [
    {
     "data": {
      "text/plain": [
       "<matplotlib.axes._subplots.AxesSubplot at 0x7f5b48a4f650>"
      ]
     },
     "execution_count": 60,
     "metadata": {},
     "output_type": "execute_result"
    },
    {
     "data": {
      "image/png": "[encoded data removed]",
      "text/plain": [
       "<matplotlib.figure.Figure at 0x7f5b43f83450>"
      ]
     },
     "metadata": {},
     "output_type": "display_data"
    }
   ],
   "source": [
    "sns.boxplot(data27)"
   ]
  },
  {
   "cell_type": "code",
   "execution_count": 61,
   "metadata": {},
   "outputs": [
    {
     "data": {
      "text/plain": [
       "count     1376.000000\n",
       "mean        31.914293\n",
       "std       2523.111700\n",
       "min     -25819.000000\n",
       "25%         -3.101275\n",
       "50%          0.831040\n",
       "75%          3.413400\n",
       "max      78115.000000\n",
       "Name: Attr27, dtype: float64"
      ]
     },
     "execution_count": 61,
     "metadata": {},
     "output_type": "execute_result"
    }
   ],
   "source": [
    "data27.describe()"
   ]
  },
  {
   "cell_type": "code",
   "execution_count": 62,
   "metadata": {},
   "outputs": [],
   "source": [
    "data27_2 = data27.dropna().copy()"
   ]
  },
  {
   "cell_type": "code",
   "execution_count": 63,
   "metadata": {},
   "outputs": [
    {
     "data": {
      "text/plain": [
       "<matplotlib.axes._subplots.AxesSubplot at 0x7f5b47aa1d90>"
      ]
     },
     "execution_count": 63,
     "metadata": {},
     "output_type": "execute_result"
    },
    {
     "data": {
      "image/png": "[encoded data removed]",
      "text/plain": [
       "<matplotlib.figure.Figure at 0x7f5b433b1d50>"
      ]
     },
     "metadata": {},
     "output_type": "display_data"
    }
   ],
   "source": [
    "sns.distplot(data27_2)"
   ]
  },
  {
   "cell_type": "code",
   "execution_count": 66,
   "metadata": {},
   "outputs": [
    {
     "name": "stderr",
     "output_type": "stream",
     "text": [
      "/home/sid/anaconda2/lib/python2.7/site-packages/pandas/core/generic.py:3660: SettingWithCopyWarning: \n",
      "A value is trying to be set on a copy of a slice from a DataFrame\n",
      "\n",
      "See the caveats in the documentation: http://pandas.pydata.org/pandas-docs/stable/indexing.html#indexing-view-versus-copy\n",
      "  self._update_inplace(new_data)\n"
     ]
    }
   ],
   "source": [
    "data27.fillna(value=0.83, inplace=True)"
   ]
  },
  {
   "cell_type": "code",
   "execution_count": 67,
   "metadata": {},
   "outputs": [
    {
     "data": {
      "text/plain": [
       "<matplotlib.axes._subplots.AxesSubplot at 0x7f5b433739d0>"
      ]
     },
     "execution_count": 67,
     "metadata": {},
     "output_type": "execute_result"
    },
    {
     "data": {
      "image/png": "[encoded data removed]",
      "text/plain": [
       "<matplotlib.figure.Figure at 0x7f5b5150ab10>"
      ]
     },
     "metadata": {},
     "output_type": "display_data"
    }
   ],
   "source": [
    "sns.distplot(data27)"
   ]
  },
  {
   "cell_type": "code",
   "execution_count": 65,
   "metadata": {},
   "outputs": [
    {
     "data": {
      "text/plain": [
       "6756    False\n",
       "6757    False\n",
       "6758     True\n",
       "6759    False\n",
       "6760    False\n",
       "6761    False\n",
       "6762    False\n",
       "6763    False\n",
       "6764    False\n",
       "6765    False\n",
       "6766    False\n",
       "6767    False\n",
       "6768    False\n",
       "6769    False\n",
       "6770    False\n",
       "6771    False\n",
       "6772    False\n",
       "6773    False\n",
       "6774    False\n",
       "6775    False\n",
       "6776    False\n",
       "6777    False\n",
       "6778    False\n",
       "6779    False\n",
       "6780    False\n",
       "6781    False\n",
       "6782    False\n",
       "6783    False\n",
       "6784    False\n",
       "6785    False\n",
       "        ...  \n",
       "5880     True\n",
       "5881    False\n",
       "5882     True\n",
       "5883     True\n",
       "5884    False\n",
       "5885    False\n",
       "5886    False\n",
       "5887     True\n",
       "5888    False\n",
       "5889    False\n",
       "5890    False\n",
       "5891     True\n",
       "5892    False\n",
       "5893    False\n",
       "5894    False\n",
       "5895     True\n",
       "5896    False\n",
       "5897     True\n",
       "5898    False\n",
       "5899    False\n",
       "5900    False\n",
       "5901     True\n",
       "5902    False\n",
       "5903     True\n",
       "5904    False\n",
       "5905    False\n",
       "5906     True\n",
       "5907     True\n",
       "5908     True\n",
       "5909     True\n",
       "Name: Attr27, Length: 2091, dtype: bool"
      ]
     },
     "execution_count": 65,
     "metadata": {},
     "output_type": "execute_result"
    }
   ],
   "source": [
    "data27.isnull()"
   ]
  },
  {
   "cell_type": "code",
   "execution_count": 69,
   "metadata": {},
   "outputs": [
    {
     "data": {
      "text/plain": [
       "1.0841"
      ]
     },
     "execution_count": 69,
     "metadata": {},
     "output_type": "execute_result"
    }
   ],
   "source": [
    "big_data['Attr27'].median()"
   ]
  },
  {
   "cell_type": "code",
   "execution_count": 72,
   "metadata": {},
   "outputs": [
    {
     "name": "stdout",
     "output_type": "stream",
     "text": [
      "<class 'pandas.core.frame.DataFrame'>\n",
      "Int64Index: 43405 entries, 0 to 5909\n",
      "Data columns (total 65 columns):\n",
      "Attr1     43405 non-null float64\n",
      "Attr2     43405 non-null float64\n",
      "Attr3     43405 non-null float64\n",
      "Attr4     43405 non-null float64\n",
      "Attr5     43405 non-null float64\n",
      "Attr6     43405 non-null float64\n",
      "Attr7     43405 non-null float64\n",
      "Attr8     43405 non-null float64\n",
      "Attr9     43405 non-null float64\n",
      "Attr10    43405 non-null float64\n",
      "Attr11    43405 non-null float64\n",
      "Attr12    43405 non-null float64\n",
      "Attr13    43405 non-null float64\n",
      "Attr14    43405 non-null float64\n",
      "Attr15    43405 non-null float64\n",
      "Attr16    43405 non-null float64\n",
      "Attr17    43405 non-null float64\n",
      "Attr18    43405 non-null float64\n",
      "Attr19    43405 non-null float64\n",
      "Attr20    43405 non-null float64\n",
      "Attr21    43405 non-null float64\n",
      "Attr22    43405 non-null float64\n",
      "Attr23    43405 non-null float64\n",
      "Attr24    43405 non-null float64\n",
      "Attr25    43405 non-null float64\n",
      "Attr26    43405 non-null float64\n",
      "Attr27    43405 non-null float64\n",
      "Attr28    43405 non-null float64\n",
      "Attr29    43405 non-null float64\n",
      "Attr30    43405 non-null float64\n",
      "Attr31    43405 non-null float64\n",
      "Attr32    43405 non-null float64\n",
      "Attr33    43405 non-null float64\n",
      "Attr34    43405 non-null float64\n",
      "Attr35    43405 non-null float64\n",
      "Attr36    43405 non-null float64\n",
      "Attr37    43405 non-null float64\n",
      "Attr38    43405 non-null float64\n",
      "Attr39    43405 non-null float64\n",
      "Attr40    43405 non-null float64\n",
      "Attr41    43405 non-null float64\n",
      "Attr42    43405 non-null float64\n",
      "Attr43    43405 non-null float64\n",
      "Attr44    43405 non-null float64\n",
      "Attr45    43405 non-null float64\n",
      "Attr46    43405 non-null float64\n",
      "Attr47    43405 non-null float64\n",
      "Attr48    43405 non-null float64\n",
      "Attr49    43405 non-null float64\n",
      "Attr50    43405 non-null float64\n",
      "Attr51    43405 non-null float64\n",
      "Attr52    43405 non-null float64\n",
      "Attr53    43405 non-null float64\n",
      "Attr54    43405 non-null float64\n",
      "Attr55    43405 non-null float64\n",
      "Attr56    43405 non-null float64\n",
      "Attr57    43405 non-null float64\n",
      "Attr58    43405 non-null float64\n",
      "Attr59    43405 non-null float64\n",
      "Attr60    43405 non-null float64\n",
      "Attr61    43405 non-null float64\n",
      "Attr62    43405 non-null float64\n",
      "Attr63    43405 non-null float64\n",
      "Attr64    43405 non-null float64\n",
      "class     43405 non-null int64\n",
      "dtypes: float64(64), int64(1)\n",
      "memory usage: 21.9 MB\n"
     ]
    }
   ],
   "source": [
    "big_data.fillna(big_data.median()).info()"
   ]
  },
  {
   "cell_type": "code",
   "execution_count": null,
   "metadata": {
    "collapsed": true
   },
   "outputs": [],
   "source": []
  }
 ],
 "metadata": {
  "kernelspec": {
   "display_name": "Python 2",
   "language": "python",
   "name": "python2"
  },
  "language_info": {
   "codemirror_mode": {
    "name": "ipython",
    "version": 2
   },
   "file_extension": ".py",
   "mimetype": "text/x-python",
   "name": "python",
   "nbconvert_exporter": "python",
   "pygments_lexer": "ipython2",
   "version": "2.7.11"
  }
 },
 "nbformat": 4,
 "nbformat_minor": 2
}
