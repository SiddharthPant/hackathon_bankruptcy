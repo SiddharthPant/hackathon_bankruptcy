{
 "cells": [
  {
   "cell_type": "code",
   "execution_count": 2,
   "metadata": {
    "collapsed": true
   },
   "outputs": [],
   "source": [
    "# %load /home/sid/libs.txt\n",
    "import numpy as np\n",
    "import pandas as pd\n",
    "import matplotlib.pyplot as plt\n",
    "import seaborn as sns\n",
    "from imblearn.over_sampling import SMOTE\n",
    "from sklearn.linear_model import LogisticRegression\n",
    "from sklearn.model_selection import train_test_split\n",
    "from sklearn.metrics import f1_score, confusion_matrix\n",
    "from sklearn.metrics import precision_score, recall_score\n",
    "from sklearn.metrics import roc_auc_score\n",
    "from sklearn.metrics import roc_curve\n",
    "from scipy.io.arff import loadarff\n",
    "from sklearn.ensemble import RandomForestClassifier\n",
    "%matplotlib inline"
   ]
  },
  {
   "cell_type": "code",
   "execution_count": 3,
   "metadata": {
    "collapsed": true
   },
   "outputs": [],
   "source": [
    "def big_data_prep(*files):\n",
    "   big_data = [pd.DataFrame(loadarff(file)[0]) for file in files]\n",
    "   return pd.concat(big_data)"
   ]
  },
  {
   "cell_type": "code",
   "execution_count": 4,
   "metadata": {
    "collapsed": true
   },
   "outputs": [],
   "source": [
    "big_data = big_data_prep('data/1year.arff', 'data/2year.arff', 'data/3year.arff', 'data/4year.arff', 'data/5year.arff')"
   ]
  },
  {
   "cell_type": "code",
   "execution_count": 5,
   "metadata": {
    "collapsed": true
   },
   "outputs": [],
   "source": [
    "big_data['class'] = [int(n) for n in big_data['class']]"
   ]
  },
  {
   "cell_type": "code",
   "execution_count": 15,
   "metadata": {},
   "outputs": [
    {
     "data": {
      "text/plain": [
       "Attr37    18984\n",
       "Attr21     5854\n",
       "Attr27     2764\n",
       "Attr60     2152\n",
       "Attr45     2147\n",
       "Attr24      922\n",
       "Attr28      812\n",
       "Attr64      812\n",
       "Attr54      812\n",
       "Attr53      812\n",
       "Attr41      754\n",
       "Attr32      368\n",
       "Attr52      301\n",
       "Attr47      297\n",
       "Attr46      135\n",
       "Attr12      134\n",
       "Attr33      134\n",
       "Attr40      134\n",
       "Attr4       134\n",
       "Attr63      134\n",
       "Attr19      128\n",
       "Attr31      127\n",
       "Attr62      127\n",
       "Attr20      127\n",
       "Attr30      127\n",
       "Attr49      127\n",
       "Attr56      127\n",
       "Attr23      127\n",
       "Attr39      127\n",
       "Attr13      127\n",
       "          ...  \n",
       "Attr26       95\n",
       "Attr17       94\n",
       "Attr34       94\n",
       "Attr50       94\n",
       "Attr8        94\n",
       "Attr5        89\n",
       "Attr58       84\n",
       "Attr11       44\n",
       "Attr15       36\n",
       "Attr9         9\n",
       "Attr48        9\n",
       "Attr10        8\n",
       "Attr2         8\n",
       "Attr3         8\n",
       "Attr7         8\n",
       "Attr6         8\n",
       "Attr1         8\n",
       "Attr14        8\n",
       "Attr18        8\n",
       "Attr22        8\n",
       "Attr25        8\n",
       "Attr29        8\n",
       "Attr35        8\n",
       "Attr36        8\n",
       "Attr38        8\n",
       "Attr51        8\n",
       "Attr57        7\n",
       "Attr59        7\n",
       "Attr55        1\n",
       "class         0\n",
       "Length: 65, dtype: int64"
      ]
     },
     "execution_count": 15,
     "metadata": {},
     "output_type": "execute_result"
    }
   ],
   "source": [
    "big_data.isnull().sum().sort_values(ascending=False)"
   ]
  },
  {
   "cell_type": "code",
   "execution_count": 17,
   "metadata": {},
   "outputs": [
    {
     "data": {
      "text/plain": [
       "(43405, 65)"
      ]
     },
     "execution_count": 17,
     "metadata": {},
     "output_type": "execute_result"
    }
   ],
   "source": [
    "big_data.copy().dropna(how='all').shape"
   ]
  },
  {
   "cell_type": "code",
   "execution_count": 18,
   "metadata": {},
   "outputs": [
    {
     "data": {
      "text/plain": [
       "(43405, 65)"
      ]
     },
     "execution_count": 18,
     "metadata": {},
     "output_type": "execute_result"
    }
   ],
   "source": [
    "big_data.shape"
   ]
  },
  {
   "cell_type": "code",
   "execution_count": null,
   "metadata": {
    "collapsed": true
   },
   "outputs": [],
   "source": []
  }
 ],
 "metadata": {
  "kernelspec": {
   "display_name": "Python 2",
   "language": "python",
   "name": "python2"
  },
  "language_info": {
   "codemirror_mode": {
    "name": "ipython",
    "version": 2
   },
   "file_extension": ".py",
   "mimetype": "text/x-python",
   "name": "python",
   "nbconvert_exporter": "python",
   "pygments_lexer": "ipython2",
   "version": "2.7.11"
  }
 },
 "nbformat": 4,
 "nbformat_minor": 2
}
