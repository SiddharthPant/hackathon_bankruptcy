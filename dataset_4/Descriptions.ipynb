{
 "cells": [
  {
   "cell_type": "markdown",
   "metadata": {},
   "source": [
    "* reasoning : on input and on the model\n",
    "* calculate variable importances, try LR first"
   ]
  },
  {
   "cell_type": "markdown",
   "metadata": {},
   "source": [
    "# Prediction\n",
    "Predict whether a  particular company will default within 5  years, given its financial statement data (numeric only)"
   ]
  },
  {
   "cell_type": "markdown",
   "metadata": {},
   "source": [
    "# What is the input that we will get here?\n",
    "Most probably they will evaluate us on randomly selected values from a year and we have to give our bankruptcy predictions in probabilities of company going bankrupt till the 5th year.\n",
    "Also we need to justify the feature importances of why we say they would. Like because so and so ratio's trend is this which is a marker of bankruptcy. So it can even be like top 5 trends which are good marker for bankruptcy."
   ]
  },
  {
   "cell_type": "markdown",
   "metadata": {},
   "source": [
    "# What is the nature of data?"
   ]
  },
  {
   "cell_type": "markdown",
   "metadata": {},
   "source": [
    "We will do a mix of all the 5 years for train and test."
   ]
  },
  {
   "cell_type": "markdown",
   "metadata": {},
   "source": [
    "Correlation b/w Attr1 and Attr48 is significant so we are thinking of removing netprofit(Attr1) as it doesn't hold much value\n",
    "EBITDA is anyways very similar to netprofit ratio"
   ]
  },
  {
   "cell_type": "markdown",
   "metadata": {},
   "source": [
    "try single model for concateneted dataset or different model on 5 categories separately"
   ]
  },
  {
   "cell_type": "markdown",
   "metadata": {},
   "source": [
    "try correlation with 64 features"
   ]
  },
  {
   "cell_type": "markdown",
   "metadata": {},
   "source": [
    "There is an imbalance in the companies got bankrupt vs stable ones"
   ]
  },
  {
   "cell_type": "markdown",
   "metadata": {},
   "source": [
    "trends which have holded over the 5 yearsm"
   ]
  },
  {
   "cell_type": "markdown",
   "metadata": {},
   "source": [
    "find the outliers and see if most of them are labeled bankrupt"
   ]
  },
  {
   "cell_type": "markdown",
   "metadata": {},
   "source": [
    "ensure train and test have similar balances"
   ]
  },
  {
   "cell_type": "markdown",
   "metadata": {},
   "source": [
    "create API, and divide into modules, define interfaces"
   ]
  },
  {
   "cell_type": "markdown",
   "metadata": {
    "collapsed": true
   },
   "source": [
    "Log transform\n",
    "https://blogs.sas.com/content/iml/2011/04/27/log-transformations-how-to-handle-negative-data-values.html"
   ]
  },
  {
   "cell_type": "markdown",
   "metadata": {},
   "source": [
    "# Findings\n",
    "Attr60, 45, 37, 21 , we have decided to drop these columns. 37 because it has very large missing values. And others because they have missing values + very low feature importance."
   ]
  }
 ],
 "metadata": {
  "kernelspec": {
   "display_name": "Python 2",
   "language": "python",
   "name": "python2"
  },
  "language_info": {
   "codemirror_mode": {
    "name": "ipython",
    "version": 2
   },
   "file_extension": ".py",
   "mimetype": "text/x-python",
   "name": "python",
   "nbconvert_exporter": "python",
   "pygments_lexer": "ipython2",
   "version": "2.7.11"
  }
 },
 "nbformat": 4,
 "nbformat_minor": 2
}
